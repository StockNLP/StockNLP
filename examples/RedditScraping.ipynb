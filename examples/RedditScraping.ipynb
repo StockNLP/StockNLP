{
 "cells": [
  {
   "cell_type": "code",
   "execution_count": 254,
   "metadata": {},
   "outputs": [],
   "source": [
    "#Dependencies\n",
    "import json\n",
    "from psaw import PushshiftAPI\n",
    "import datetime \n",
    "from pandas.io.json import json_normalize\n",
    "import pandas as pd\n",
    "import numpy as np\n",
    "import time \n",
    "import re"
   ]
  },
  {
   "cell_type": "code",
   "execution_count": 283,
   "metadata": {},
   "outputs": [],
   "source": [
    "#Defines the DataFrame\n",
    "df_reddit = pd.DataFrame(columns = ['Date','Comment', 'Tags', 'Subreddit'])"
   ]
  },
  {
   "cell_type": "code",
   "execution_count": 171,
   "metadata": {},
   "outputs": [],
   "source": [
    "#Initializes the PushshitAPI to variable 'api'\n",
    "api = PushshiftAPI()"
   ]
  },
  {
   "cell_type": "code",
   "execution_count": 172,
   "metadata": {},
   "outputs": [],
   "source": [
    "#We are defining 4 different subreddits (groups)\n",
    "subreddits = ['wallstreetbets', 'robinhood', 'stocks', 'investing']"
   ]
  },
  {
   "cell_type": "code",
   "execution_count": 345,
   "metadata": {},
   "outputs": [
    {
     "name": "stdout",
     "output_type": "stream",
     "text": [
      "Please input which subreddit you want to search: ['wallstreetbets', 'robinhood', 'stocks', 'investing']investing\n"
     ]
    }
   ],
   "source": [
    "#We get the user's input of which subreddit they want to check. In the dashboard, this will be a dropdown menu.\n",
    "channel = str(input('Please input which subreddit you want to search: '+ str(subreddits) ))"
   ]
  },
  {
   "cell_type": "code",
   "execution_count": 284,
   "metadata": {},
   "outputs": [],
   "source": [
    "#This is the start time from which the data will be pulled. \n",
    "start_time = int(datetime.datetime(2021, 10, 20).timestamp())"
   ]
  },
  {
   "cell_type": "code",
   "execution_count": 262,
   "metadata": {},
   "outputs": [],
   "source": [
    "# This function checks if the tag has a number or not. Returns True or False. \n",
    "def has_numbers(inputString):\n",
    "    '''\n",
    "    This function looks at the $Tag and checks if it contains a dollar value or a ticker symbol. For eg. is it $9 or\n",
    "    $AMC. Returns True if it is a number and false if it is a string. \n",
    "    '''\n",
    "    return (any(char.isdigit() for char in inputString))"
   ]
  },
  {
   "cell_type": "code",
   "execution_count": 263,
   "metadata": {},
   "outputs": [],
   "source": [
    "def get_subreddit_column(subreddit, df): \n",
    "    '''\n",
    "    This function takes the channel variable and the dataframe of api results as input and adds a column in the same \n",
    "    dataframe of the length of the dataframe and populates it with the name of the subreddit (channel variable) name. \n",
    "    '''\n",
    "    arr = []\n",
    "    size = len(df)\n",
    "    arr += size * [str(subreddit)]\n",
    "    return list(arr)"
   ]
  },
  {
   "cell_type": "code",
   "execution_count": 264,
   "metadata": {},
   "outputs": [],
   "source": [
    "def cashtags(submissions, df):\n",
    "    '''\n",
    "    This function takes the api JSON values and the dataframe. It extracts the $Tags from the comments and stores them\n",
    "    in a separate column, corresponding to the row of the comment. It also filters out the $Tags that are empty and \n",
    "    those that have a $Numerical value. Returns a list of tags and a list of comments. \n",
    "    '''\n",
    "    tag_list = []\n",
    "    comment_list = []\n",
    "    date_list = []\n",
    "    for submission in submissions:\n",
    "        words = submission.title.split()\n",
    "        cashtags = list(set(filter(lambda word: word.lower().startswith('$'), words)))\n",
    "    #Filters out empty $Tags and numerical $Tags. Adds the filtered values to two lists. A list of tags and a list\n",
    "    # of comments. \n",
    "        if  (len(cashtags) > 0) :\n",
    "            val = has_numbers(str(cashtags))\n",
    "            if (val == False):\n",
    "                tag_list.append(cashtags)\n",
    "                comment_list.append(submission.title)\n",
    "                date = datetime.datetime.fromtimestamp(submission.created_utc).replace(tzinfo=datetime.timezone.utc).strftime(\"%m/%d/%Y\")\n",
    "                date_list.append(date)\n",
    "    lst_tags, lst_comments, lst_date = __flatten_list(tag_list, comment_list, date_list)   \n",
    "    return lst_tags, lst_comments, lst_date"
   ]
  },
  {
   "cell_type": "code",
   "execution_count": 265,
   "metadata": {},
   "outputs": [],
   "source": [
    "def __flatten_list(tags, comments, dates):\n",
    "    '''\n",
    "    This function takes in 3 lists (ticker symbol list, reddit comment lists, date of reddit post list and it flattens\n",
    "    2-d ticker list into 1-d list and makes corresponding changes to the comment and date lists. Returns updated ticker, \n",
    "    comment and date lists.\n",
    "    '''\n",
    "    lst_tags = []\n",
    "    lst_comments = []\n",
    "    lst_date = []\n",
    "    length = len(tags)\n",
    "    for i in range(length):\n",
    "        if len(tags[i]) >= 1:\n",
    "            for j in range(len(tags[i])):\n",
    "                clean_tag = has_special_chars((tags[i][j]))\n",
    "                lst_tags.append(clean_tag)\n",
    "                lst_comments.append(comments[i])\n",
    "                lst_date.append(dates[i])\n",
    "    return lst_tags, lst_comments, lst_date\n",
    "                \n",
    "    "
   ]
  },
  {
   "cell_type": "code",
   "execution_count": 267,
   "metadata": {},
   "outputs": [],
   "source": [
    "def add_to_df(tag, comment, date, subreddit, df):\n",
    "    '''\n",
    "    This function takes the list of tags, list of columns, subreddit list and the working dataframe as inputs and \n",
    "    appends each values to the corresponding rows.\n",
    "    '''\n",
    "    for i in range(len(comment)):\n",
    "        df_length = len(df)\n",
    "        df.loc[df_length] = date[i], comment[i], tag[i], subreddit"
   ]
  },
  {
   "cell_type": "code",
   "execution_count": 268,
   "metadata": {},
   "outputs": [],
   "source": [
    "def has_special_chars(string):\n",
    "    \"\"\" \n",
    "    This function takes a string that is stripped of the $ sign from the ticker and returns coded value.\n",
    "    Codes:- 1: Valid Ticker (No special characters), -1: Trailing Special Character \n",
    "    (Requires removal of trailing character) and 0: Invalid Ticker (Contains non-trailing special characters).\n",
    "    \"\"\"\n",
    "    regexp = re.compile('[^a-zA-Z]+')\n",
    "    st = string[1:]\n",
    "    dollar = string[:1]\n",
    "    if __has_special_chars(st):\n",
    "        st = re.sub('\\W+','', st)\n",
    "    clean_string = dollar+st\n",
    "    return clean_string.upper()\n",
    "\n",
    "def __has_special_chars(string):\n",
    "    '''\n",
    "    This is a private helper function that takes in the string value and returns boolean if it contains special characters.\n",
    "    '''\n",
    "    regexp = re.compile('[^a-zA-Z]+')\n",
    "    if regexp.search(string):\n",
    "        return True\n",
    "    else:\n",
    "        return False"
   ]
  },
  {
   "cell_type": "code",
   "execution_count": 346,
   "metadata": {},
   "outputs": [],
   "source": [
    "def main():\n",
    "    \"\"\" \n",
    "    This is the main function that runs the API, and adds the results to the dataframe after corresponding Dataframe. \n",
    "    \"\"\"\n",
    "    start = time.time()\n",
    "    df_reddit = pd.DataFrame(columns = ['Date','Comment', 'Tags', 'Subreddit'])\n",
    "    df_master = pd.read_csv('Reddit_Test.csv', index_col = 0)\n",
    "    submissions = list(api.search_submissions(after=start_time,\n",
    "                       subreddit=channel,\n",
    "                       filter=['author', 'title', 'subreddit', 'subscribers', 'comment_score_hide_mins'],\n",
    "                      ))#limit=10000))\n",
    "    tag, comment, date = cashtags(submissions, df_reddit)\n",
    "    subreddit = get_subreddit_column(channel, df_reddit)\n",
    "    add_to_df(tag, comment, date, channel,df_reddit)\n",
    "    df_master = df_master.append(df_reddit)\n",
    "    df_master.to_csv(\"Reddit_Test.csv\")\n",
    "    end = time.time()\n",
    "    print(f'This process took {end-start} to run')\n",
    "    "
   ]
  },
  {
   "cell_type": "code",
   "execution_count": 347,
   "metadata": {},
   "outputs": [
    {
     "name": "stdout",
     "output_type": "stream",
     "text": [
      "This process took 43.1807427406311 to run\n"
     ]
    }
   ],
   "source": [
    "if __name__ == \"__main__\": \n",
    "    main()"
   ]
  },
  {
   "cell_type": "code",
   "execution_count": null,
   "metadata": {},
   "outputs": [],
   "source": [
    " "
   ]
  }
 ],
 "metadata": {
  "kernelspec": {
   "display_name": "Python 3 (ipykernel)",
   "language": "python",
   "name": "python3"
  },
  "language_info": {
   "codemirror_mode": {
    "name": "ipython",
    "version": 3
   },
   "file_extension": ".py",
   "mimetype": "text/x-python",
   "name": "python",
   "nbconvert_exporter": "python",
   "pygments_lexer": "ipython3",
   "version": "3.9.7"
  }
 },
 "nbformat": 4,
 "nbformat_minor": 2
}
