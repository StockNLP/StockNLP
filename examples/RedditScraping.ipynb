{
 "cells": [
  {
   "cell_type": "code",
   "execution_count": 50,
   "metadata": {},
   "outputs": [],
   "source": [
    "import json\n",
    "from psaw import PushshiftAPI\n",
    "import datetime\n",
    "from pandas.io.json import json_normalize\n",
    "import pandas as pd\n",
    "import numpy as np"
   ]
  },
  {
   "cell_type": "code",
   "execution_count": 17,
   "metadata": {},
   "outputs": [],
   "source": []
  },
  {
   "cell_type": "code",
   "execution_count": 51,
   "metadata": {},
   "outputs": [
    {
     "name": "stdout",
     "output_type": "stream",
     "text": [
      "INFO:psaw.PushshiftAPI:https://api.pushshift.io/meta\n"
     ]
    }
   ],
   "source": [
    "api = PushshiftAPI()"
   ]
  },
  {
   "cell_type": "code",
   "execution_count": 52,
   "metadata": {},
   "outputs": [],
   "source": [
    "subreddits = ['wallstreetbets', 'robinhood', 'stocks', 'investing']"
   ]
  },
  {
   "cell_type": "code",
   "execution_count": 53,
   "metadata": {},
   "outputs": [
    {
     "name": "stdout",
     "output_type": "stream",
     "text": [
      "Please input which subreddit you want to search: ['wallstreetbets', 'robinhood', 'stocks', 'investing']wallstreetbets\n"
     ]
    }
   ],
   "source": [
    "channel = str(input('Please input which subreddit you want to search: '+ str(subreddits)))"
   ]
  },
  {
   "cell_type": "code",
   "execution_count": 54,
   "metadata": {},
   "outputs": [],
   "source": [
    "start_time = int(datetime.datetime(2021, 11, 4).timestamp())"
   ]
  },
  {
   "cell_type": "code",
   "execution_count": 84,
   "metadata": {},
   "outputs": [
    {
     "name": "stdout",
     "output_type": "stream",
     "text": [
      "INFO:psaw.PushshiftAPI:https://api.pushshift.io/reddit/submission/search?after=1636009200&subreddit=wallstreetbets&filter=author&filter=title&filter=subreddit&filter=subscribers&filter=comment_score_hide_mins&filter=created_utc&limit=100&metadata=true&sort=desc\n"
     ]
    }
   ],
   "source": [
    "submissions = list(api.search_submissions(after=start_time,\n",
    "                              subreddit=channel,\n",
    "                              filter=['author', 'title', 'subreddit', 'subscribers', \n",
    "                                      'comment_score_hide_mins'],limit=100))"
   ]
  },
  {
   "cell_type": "code",
   "execution_count": 56,
   "metadata": {},
   "outputs": [
    {
     "data": {
      "text/plain": [
       "'\\nsubmissions = list(api.search_comments(after=start_time,\\n                              subreddit=channel,\\n                              limit=100))\\n'"
      ]
     },
     "execution_count": 56,
     "metadata": {},
     "output_type": "execute_result"
    }
   ],
   "source": [
    "'''\n",
    "submissions = list(api.search_comments(after=start_time,\n",
    "                              subreddit=channel,\n",
    "                              limit=100))\n",
    "'''"
   ]
  },
  {
   "cell_type": "code",
   "execution_count": 91,
   "metadata": {},
   "outputs": [],
   "source": [
    "sub_df = pd.DataFrame(submissions)"
   ]
  },
  {
   "cell_type": "code",
   "execution_count": 85,
   "metadata": {},
   "outputs": [],
   "source": [
    "def has_numbers(inputString):\n",
    "    return (any(char.isdigit() for char in inputString))"
   ]
  },
  {
   "cell_type": "code",
   "execution_count": 86,
   "metadata": {},
   "outputs": [],
   "source": [
    "#response_data = json.loads(submissions[1].title)\n",
    "#df = json_normalize(response_data['results'])\n",
    "df_reddit = pd.DataFrame()\n",
    "tag = []\n",
    "body = []"
   ]
  },
  {
   "cell_type": "code",
   "execution_count": 87,
   "metadata": {},
   "outputs": [],
   "source": [
    "for submission in submissions:\n",
    "    words = submission.title.split()\n",
    "    cashtags = list(set(filter(lambda word: word.lower().startswith('$'), words)))\n",
    "    \n",
    "    if  (len(cashtags) > 0) :\n",
    "        val = has_numbers(str(cashtags))\n",
    "        if (val == False):\n",
    "            tag.append(cashtags)\n",
    "            body.append(submission.title)\n",
    "            #print(subscribers)\n",
    "            #print(comment_score_hide_mins)"
   ]
  },
  {
   "cell_type": "code",
   "execution_count": 49,
   "metadata": {},
   "outputs": [
    {
     "data": {
      "text/html": [
       "<div>\n",
       "<style scoped>\n",
       "    .dataframe tbody tr th:only-of-type {\n",
       "        vertical-align: middle;\n",
       "    }\n",
       "\n",
       "    .dataframe tbody tr th {\n",
       "        vertical-align: top;\n",
       "    }\n",
       "\n",
       "    .dataframe thead th {\n",
       "        text-align: right;\n",
       "    }\n",
       "</style>\n",
       "<table border=\"1\" class=\"dataframe\">\n",
       "  <thead>\n",
       "    <tr style=\"text-align: right;\">\n",
       "      <th></th>\n",
       "      <th>author</th>\n",
       "      <th>created_utc</th>\n",
       "      <th>subreddit</th>\n",
       "      <th>title</th>\n",
       "    </tr>\n",
       "  </thead>\n",
       "  <tbody>\n",
       "    <tr>\n",
       "      <td>0</td>\n",
       "      <td>la_profesadoraspoon</td>\n",
       "      <td>1636681515</td>\n",
       "      <td>wallstreetbets</td>\n",
       "      <td>Not the worst here, but still painful</td>\n",
       "    </tr>\n",
       "    <tr>\n",
       "      <td>1</td>\n",
       "      <td>talibingo</td>\n",
       "      <td>1636681475</td>\n",
       "      <td>wallstreetbets</td>\n",
       "      <td>Hokkaidu inu</td>\n",
       "    </tr>\n",
       "    <tr>\n",
       "      <td>2</td>\n",
       "      <td>Express_Cable9709</td>\n",
       "      <td>1636681405</td>\n",
       "      <td>wallstreetbets</td>\n",
       "      <td>SNdL makes money moves!</td>\n",
       "    </tr>\n",
       "    <tr>\n",
       "      <td>3</td>\n",
       "      <td>Traders_Abacus</td>\n",
       "      <td>1636681391</td>\n",
       "      <td>wallstreetbets</td>\n",
       "      <td>Ford and Purdue Patent Charging Station Cable ...</td>\n",
       "    </tr>\n",
       "    <tr>\n",
       "      <td>4</td>\n",
       "      <td>Legal_Philosopher_26</td>\n",
       "      <td>1636681357</td>\n",
       "      <td>wallstreetbets</td>\n",
       "      <td>10-100% return coming on 10 Bagger - BBBY sque...</td>\n",
       "    </tr>\n",
       "    <tr>\n",
       "      <td>...</td>\n",
       "      <td>...</td>\n",
       "      <td>...</td>\n",
       "      <td>...</td>\n",
       "      <td>...</td>\n",
       "    </tr>\n",
       "    <tr>\n",
       "      <td>95</td>\n",
       "      <td>A-Dog22</td>\n",
       "      <td>1636674350</td>\n",
       "      <td>wallstreetbets</td>\n",
       "      <td>Here's Why Nio, Fisker, and EVgo Are Charging ...</td>\n",
       "    </tr>\n",
       "    <tr>\n",
       "      <td>96</td>\n",
       "      <td>Ambitious1027</td>\n",
       "      <td>1636674223</td>\n",
       "      <td>wallstreetbets</td>\n",
       "      <td>Comment. where are you supposed to start!</td>\n",
       "    </tr>\n",
       "    <tr>\n",
       "      <td>97</td>\n",
       "      <td>GreatTraderOnizuka</td>\n",
       "      <td>1636674087</td>\n",
       "      <td>wallstreetbets</td>\n",
       "      <td>Can you scratch my CRCT ? DD to get hard to.</td>\n",
       "    </tr>\n",
       "    <tr>\n",
       "      <td>98</td>\n",
       "      <td>pm_me_your_vdub</td>\n",
       "      <td>1636674066</td>\n",
       "      <td>wallstreetbets</td>\n",
       "      <td>Lucid v. Rivian DD</td>\n",
       "    </tr>\n",
       "    <tr>\n",
       "      <td>99</td>\n",
       "      <td>gilleod</td>\n",
       "      <td>1636673994</td>\n",
       "      <td>wallstreetbets</td>\n",
       "      <td>Long time lurker interested to know... How wel...</td>\n",
       "    </tr>\n",
       "  </tbody>\n",
       "</table>\n",
       "<p>100 rows × 4 columns</p>\n",
       "</div>"
      ],
      "text/plain": [
       "                  author  created_utc       subreddit  \\\n",
       "0    la_profesadoraspoon   1636681515  wallstreetbets   \n",
       "1              talibingo   1636681475  wallstreetbets   \n",
       "2      Express_Cable9709   1636681405  wallstreetbets   \n",
       "3         Traders_Abacus   1636681391  wallstreetbets   \n",
       "4   Legal_Philosopher_26   1636681357  wallstreetbets   \n",
       "..                   ...          ...             ...   \n",
       "95               A-Dog22   1636674350  wallstreetbets   \n",
       "96         Ambitious1027   1636674223  wallstreetbets   \n",
       "97    GreatTraderOnizuka   1636674087  wallstreetbets   \n",
       "98       pm_me_your_vdub   1636674066  wallstreetbets   \n",
       "99               gilleod   1636673994  wallstreetbets   \n",
       "\n",
       "                                                title  \n",
       "0               Not the worst here, but still painful  \n",
       "1                                        Hokkaidu inu  \n",
       "2                             SNdL makes money moves!  \n",
       "3   Ford and Purdue Patent Charging Station Cable ...  \n",
       "4   10-100% return coming on 10 Bagger - BBBY sque...  \n",
       "..                                                ...  \n",
       "95  Here's Why Nio, Fisker, and EVgo Are Charging ...  \n",
       "96          Comment. where are you supposed to start!  \n",
       "97       Can you scratch my CRCT ? DD to get hard to.  \n",
       "98                                 Lucid v. Rivian DD  \n",
       "99  Long time lurker interested to know... How wel...  \n",
       "\n",
       "[100 rows x 4 columns]"
      ]
     },
     "execution_count": 49,
     "metadata": {},
     "output_type": "execute_result"
    }
   ],
   "source": [
    "sub_df"
   ]
  },
  {
   "cell_type": "code",
   "execution_count": 88,
   "metadata": {},
   "outputs": [],
   "source": [
    "df_reddit['Ticker'] = pd.Series(tag)"
   ]
  },
  {
   "cell_type": "code",
   "execution_count": 89,
   "metadata": {},
   "outputs": [],
   "source": [
    "df_reddit['Body'] = pd.Series(body)"
   ]
  },
  {
   "cell_type": "code",
   "execution_count": 90,
   "metadata": {},
   "outputs": [
    {
     "data": {
      "text/html": [
       "<div>\n",
       "<style scoped>\n",
       "    .dataframe tbody tr th:only-of-type {\n",
       "        vertical-align: middle;\n",
       "    }\n",
       "\n",
       "    .dataframe tbody tr th {\n",
       "        vertical-align: top;\n",
       "    }\n",
       "\n",
       "    .dataframe thead th {\n",
       "        text-align: right;\n",
       "    }\n",
       "</style>\n",
       "<table border=\"1\" class=\"dataframe\">\n",
       "  <thead>\n",
       "    <tr style=\"text-align: right;\">\n",
       "      <th></th>\n",
       "      <th>Ticker</th>\n",
       "      <th>Body</th>\n",
       "    </tr>\n",
       "  </thead>\n",
       "  <tbody>\n",
       "    <tr>\n",
       "      <td>0</td>\n",
       "      <td>[$LCID]</td>\n",
       "      <td>$LCID Setup to break ATH 🚀</td>\n",
       "    </tr>\n",
       "    <tr>\n",
       "      <td>1</td>\n",
       "      <td>[$GME]</td>\n",
       "      <td>Ken Griffin getting back retail investors for ...</td>\n",
       "    </tr>\n",
       "    <tr>\n",
       "      <td>2</td>\n",
       "      <td>[$DPZ]</td>\n",
       "      <td>$DPZ 230% Call option gain +$PYPL</td>\n",
       "    </tr>\n",
       "    <tr>\n",
       "      <td>3</td>\n",
       "      <td>[$AUR]</td>\n",
       "      <td>$AUR</td>\n",
       "    </tr>\n",
       "    <tr>\n",
       "      <td>4</td>\n",
       "      <td>[$TWTR]</td>\n",
       "      <td>$TWTR</td>\n",
       "    </tr>\n",
       "    <tr>\n",
       "      <td>5</td>\n",
       "      <td>[$TWTR]</td>\n",
       "      <td>$TWTR</td>\n",
       "    </tr>\n",
       "    <tr>\n",
       "      <td>6</td>\n",
       "      <td>[$PSFE?]</td>\n",
       "      <td>What's up with $PSFE?</td>\n",
       "    </tr>\n",
       "    <tr>\n",
       "      <td>7</td>\n",
       "      <td>[$PYPL, $DPZ,]</td>\n",
       "      <td>+230% Call option trade $DPZ, thoughts on $PYPL</td>\n",
       "    </tr>\n",
       "    <tr>\n",
       "      <td>8</td>\n",
       "      <td>[$WISH]</td>\n",
       "      <td>I $WISH I NEVER BOUGHT THIS STOCK.</td>\n",
       "    </tr>\n",
       "    <tr>\n",
       "      <td>9</td>\n",
       "      <td>[$VOO]</td>\n",
       "      <td>Fully exposed to the short side with my initia...</td>\n",
       "    </tr>\n",
       "    <tr>\n",
       "      <td>10</td>\n",
       "      <td>[$OCGN]</td>\n",
       "      <td>Ready to rip, $OCGN</td>\n",
       "    </tr>\n",
       "  </tbody>\n",
       "</table>\n",
       "</div>"
      ],
      "text/plain": [
       "            Ticker                                               Body\n",
       "0          [$LCID]                         $LCID Setup to break ATH 🚀\n",
       "1           [$GME]  Ken Griffin getting back retail investors for ...\n",
       "2           [$DPZ]                  $DPZ 230% Call option gain +$PYPL\n",
       "3           [$AUR]                                               $AUR\n",
       "4          [$TWTR]                                              $TWTR\n",
       "5          [$TWTR]                                              $TWTR\n",
       "6         [$PSFE?]                              What's up with $PSFE?\n",
       "7   [$PYPL, $DPZ,]    +230% Call option trade $DPZ, thoughts on $PYPL\n",
       "8          [$WISH]                 I $WISH I NEVER BOUGHT THIS STOCK.\n",
       "9           [$VOO]  Fully exposed to the short side with my initia...\n",
       "10         [$OCGN]                                Ready to rip, $OCGN"
      ]
     },
     "execution_count": 90,
     "metadata": {},
     "output_type": "execute_result"
    }
   ],
   "source": [
    "df_reddit"
   ]
  },
  {
   "cell_type": "code",
   "execution_count": 94,
   "metadata": {},
   "outputs": [
    {
     "data": {
      "text/plain": [
       "author                                                 lols_kr67\n",
       "created_utc                                           1637354076\n",
       "subreddit                                         wallstreetbets\n",
       "title                                    Re: TrueCar Inc ($TRUE)\n",
       "created                                              1.63738e+09\n",
       "d_             {'author': 'lols_kr67', 'created_utc': 1637354...\n",
       "Name: 25, dtype: object"
      ]
     },
     "execution_count": 94,
     "metadata": {},
     "output_type": "execute_result"
    }
   ],
   "source": []
  },
  {
   "cell_type": "code",
   "execution_count": null,
   "metadata": {},
   "outputs": [],
   "source": []
  }
 ],
 "metadata": {
  "kernelspec": {
   "display_name": "Python 3",
   "language": "python",
   "name": "python3"
  },
  "language_info": {
   "codemirror_mode": {
    "name": "ipython",
    "version": 3
   },
   "file_extension": ".py",
   "mimetype": "text/x-python",
   "name": "python",
   "nbconvert_exporter": "python",
   "pygments_lexer": "ipython3",
   "version": "3.7.4"
  }
 },
 "nbformat": 4,
 "nbformat_minor": 2
}
