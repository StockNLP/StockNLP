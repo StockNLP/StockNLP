{
 "cells": [
  {
   "cell_type": "code",
   "execution_count": 3,
   "id": "4ac06397",
   "metadata": {},
   "outputs": [
    {
     "name": "stdout",
     "output_type": "stream",
     "text": [
      "Collecting yfinance\n",
      "  Downloading yfinance-0.1.67-py2.py3-none-any.whl (25 kB)\n",
      "Requirement already satisfied: requests>=2.20 in /Volumes/iPort/opt/miniconda3/lib/python3.9/site-packages (from yfinance) (2.26.0)\n",
      "Collecting multitasking>=0.0.7\n",
      "  Downloading multitasking-0.0.10.tar.gz (8.2 kB)\n",
      "  Preparing metadata (setup.py) ... \u001b[?25ldone\n",
      "\u001b[?25hRequirement already satisfied: numpy>=1.15 in /Volumes/iPort/opt/miniconda3/lib/python3.9/site-packages (from yfinance) (1.21.2)\n",
      "Requirement already satisfied: pandas>=0.24 in /Volumes/iPort/opt/miniconda3/lib/python3.9/site-packages (from yfinance) (1.3.3)\n",
      "Requirement already satisfied: lxml>=4.5.1 in /Volumes/iPort/opt/miniconda3/lib/python3.9/site-packages (from yfinance) (4.6.4)\n",
      "Requirement already satisfied: python-dateutil>=2.7.3 in /Volumes/iPort/opt/miniconda3/lib/python3.9/site-packages (from pandas>=0.24->yfinance) (2.8.2)\n",
      "Requirement already satisfied: pytz>=2017.3 in /Volumes/iPort/opt/miniconda3/lib/python3.9/site-packages (from pandas>=0.24->yfinance) (2021.3)\n",
      "Requirement already satisfied: charset-normalizer~=2.0.0 in /Volumes/iPort/opt/miniconda3/lib/python3.9/site-packages (from requests>=2.20->yfinance) (2.0.4)\n",
      "Requirement already satisfied: idna<4,>=2.5 in /Volumes/iPort/opt/miniconda3/lib/python3.9/site-packages (from requests>=2.20->yfinance) (3.2)\n",
      "Requirement already satisfied: urllib3<1.27,>=1.21.1 in /Volumes/iPort/opt/miniconda3/lib/python3.9/site-packages (from requests>=2.20->yfinance) (1.26.6)\n",
      "Requirement already satisfied: certifi>=2017.4.17 in /Volumes/iPort/opt/miniconda3/lib/python3.9/site-packages (from requests>=2.20->yfinance) (2021.10.8)\n",
      "Requirement already satisfied: six>=1.5 in /Volumes/iPort/opt/miniconda3/lib/python3.9/site-packages (from python-dateutil>=2.7.3->pandas>=0.24->yfinance) (1.16.0)\n",
      "Using legacy 'setup.py install' for multitasking, since package 'wheel' is not installed.\n",
      "Installing collected packages: multitasking, yfinance\n",
      "    Running setup.py install for multitasking ... \u001b[?25ldone\n",
      "\u001b[?25hSuccessfully installed multitasking-0.0.10 yfinance-0.1.67\n"
     ]
    }
   ],
   "source": [
    "! pip3 install yfinance\n"
   ]
  },
  {
   "cell_type": "code",
   "execution_count": 41,
   "id": "1580a6e0",
   "metadata": {},
   "outputs": [],
   "source": [
    "# Import packages\n",
    "import os\n",
    "import yfinance as yf\n"
   ]
  },
  {
   "cell_type": "code",
   "execution_count": 47,
   "id": "6453a97c",
   "metadata": {},
   "outputs": [],
   "source": [
    "os.mkdir(os.getcwd()+'/stock_data')"
   ]
  },
  {
   "cell_type": "code",
   "execution_count": 50,
   "id": "18f30cbb",
   "metadata": {},
   "outputs": [
    {
     "name": "stdout",
     "output_type": "stream",
     "text": [
      "[*********************100%***********************]  1 of 1 completed\n",
      "[*********************100%***********************]  1 of 1 completed\n",
      "[*********************100%***********************]  1 of 1 completed\n",
      "[*********************100%***********************]  1 of 1 completed\n",
      "[*********************100%***********************]  1 of 1 completed\n",
      "[*********************100%***********************]  1 of 1 completed\n",
      "[*********************100%***********************]  1 of 1 completed\n",
      "[*********************100%***********************]  1 of 1 completed\n",
      "[*********************100%***********************]  1 of 1 completed\n"
     ]
    }
   ],
   "source": [
    "get_tick = ['AMC', 'GME', 'TSLA', 'MSFT', 'AAPL', 'NKLA', 'GOOGL','RIVN', 'FB']\n",
    "\n",
    "\n",
    "# Get the data\n",
    "for ticker in get_tick:\n",
    "    data = yf.download(tickers=ticker, period=\"1mo\", interval=\"15m\")\n",
    "    data.to_csv('stock_data/'+ticker+'.csv')\n",
    "\n"
   ]
  }
 ],
 "metadata": {
  "kernelspec": {
   "display_name": "Python 3 (ipykernel)",
   "language": "python",
   "name": "python3"
  },
  "language_info": {
   "codemirror_mode": {
    "name": "ipython",
    "version": 3
   },
   "file_extension": ".py",
   "mimetype": "text/x-python",
   "name": "python",
   "nbconvert_exporter": "python",
   "pygments_lexer": "ipython3",
   "version": "3.9.5"
  }
 },
 "nbformat": 4,
 "nbformat_minor": 5
}
