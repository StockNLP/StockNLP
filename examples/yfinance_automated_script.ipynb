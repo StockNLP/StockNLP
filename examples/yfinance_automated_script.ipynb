{
 "cells": [
  {
   "cell_type": "code",
   "execution_count": 6,
   "id": "4ac06397",
   "metadata": {},
   "outputs": [
    {
     "name": "stdout",
     "output_type": "stream",
     "text": [
      "Collecting schedule\n",
      "  Downloading schedule-1.1.0-py2.py3-none-any.whl (10 kB)\n",
      "Installing collected packages: schedule\n",
      "Successfully installed schedule-1.1.0\n"
     ]
    }
   ],
   "source": [
    "! pip3 install schedule\n"
   ]
  },
  {
   "cell_type": "code",
   "execution_count": 2,
   "id": "1580a6e0",
   "metadata": {},
   "outputs": [],
   "source": [
    "# Import package\n",
    "import schedule\n",
    "import os\n",
    "import time\n",
    "\n",
    "import yfinance as yf\n",
    "import pandas as pd\n"
   ]
  },
  {
   "cell_type": "code",
   "execution_count": 8,
   "id": "6453a97c",
   "metadata": {},
   "outputs": [],
   "source": [
    "def tick_input():\n",
    "  tick = str(input('Please enter stock ticker symbol like [$GME]:')) # test if it's a valid ticker name\n",
    "  return tick[1:].upper()"
   ]
  },
  {
   "cell_type": "code",
   "execution_count": 13,
   "id": "5345ed48",
   "metadata": {},
   "outputs": [
    {
     "name": "stdout",
     "output_type": "stream",
     "text": [
      "Please enter stock ticker symbol like [$GME]:$amzn\n",
      "[*********************100%***********************]  1 of 1 completed\n"
     ]
    }
   ],
   "source": [
    "get_tick = ['AMC', 'GME', 'TSLA', 'MSFT', 'AAPL', 'NKLA', 'GOOGL','RIVN', 'FB']\n",
    "\n",
    "\n",
    "def get_data():\n",
    "    ticker = tick_input()\n",
    "    if ticker not in get_tick:\n",
    "        data = yf.download(tickers=ticker, period=\"1mo\", interval=\"15m\")\n",
    "        data.to_csv('stock_data/'+ticker+'.csv')\n",
    "        get_tick.append(ticker)\n",
    "        \n",
    "    return pd.read_csv('stock_data/'+ticker+'.csv')\n",
    "\n",
    "data = get_data()\n",
    "\n",
    "# test cases return the correct file, or if new, create a new file    "
   ]
  },
  {
   "cell_type": "code",
   "execution_count": 31,
   "id": "18f30cbb",
   "metadata": {},
   "outputs": [
    {
     "data": {
      "text/plain": [
       "Every 1 day at 16:00:00 do job() (last run: [never], next run: 2021-12-07 16:00:00)"
      ]
     },
     "execution_count": 31,
     "metadata": {},
     "output_type": "execute_result"
    }
   ],
   "source": [
    "#update csv files daily at 4pm\n",
    "def job():\n",
    "    for ticker in get_tick:\n",
    "        new_data = yf.download(tickers=ticker, period=\"1d\", interval=\"15m\")\n",
    "        df = pd.read_csv('stock_data/'+ticker+'.csv', index_col=0) # index_col=0 to drop index column\n",
    "        df = df.append(new_data)\n",
    "        df.to_csv('stock_data/'+ticker+'.csv')\n",
    "\n",
    "schedule.every().day.at(\"16:00\").do(job)\n"
   ]
  }
 ],
 "metadata": {
  "kernelspec": {
   "display_name": "Python 3 (ipykernel)",
   "language": "python",
   "name": "python3"
  },
  "language_info": {
   "codemirror_mode": {
    "name": "ipython",
    "version": 3
   },
   "file_extension": ".py",
   "mimetype": "text/x-python",
   "name": "python",
   "nbconvert_exporter": "python",
   "pygments_lexer": "ipython3",
   "version": "3.9.5"
  }
 },
 "nbformat": 4,
 "nbformat_minor": 5
}
