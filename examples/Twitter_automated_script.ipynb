{
 "cells": [
  {
   "cell_type": "code",
   "execution_count": 189,
   "metadata": {
    "id": "Dosevio0tsTp"
   },
   "outputs": [],
   "source": [
    "import os\n",
    "import tweepy as tw\n",
    "import pandas as pd\n",
    "from datetime import date\n",
    "import schedule\n",
    "import warnings\n",
    "warnings.filterwarnings(\"ignore\")\n"
   ]
  },
  {
   "cell_type": "code",
   "execution_count": 2,
   "metadata": {
    "id": "3TG3Yylrtuhf"
   },
   "outputs": [],
   "source": [
    "consumer_key= # Enter your consuer key\n",
    "consumer_secret= # Enter your consumer_secret key\n",
    "access_token= # Enter your access_token\n",
    "access_token_secret= #Enter your access_token _secret key "
   ]
  },
  {
   "cell_type": "code",
   "execution_count": 10,
   "metadata": {
    "id": "OupL19RHwPQn"
   },
   "outputs": [],
   "source": [
    "auth = tw.OAuthHandler(consumer_key, consumer_secret)\n",
    "auth.set_access_token(access_token, access_token_secret)\n",
    "api = tw.API(auth, wait_on_rate_limit=True)"
   ]
  },
  {
   "cell_type": "code",
   "execution_count": 13,
   "metadata": {
    "id": "VGCuexBRwyh-"
   },
   "outputs": [],
   "source": [
    "def get_stock_tweets (search_stock, start_date, tweet_count):\n",
    "  \n",
    "    new_search = search_stock + \" -filter:retweets\"\n",
    "    tweets = tw.Cursor(api.search_tweets,\n",
    "                q=new_search,\n",
    "                lang=\"en\",\n",
    "                since=start_date).items(tweet_count)\n",
    "    tweets_list = [tweet.text for tweet in tweets] \n",
    "    return tweets_list\n"
   ]
  },
  {
   "cell_type": "code",
   "execution_count": 164,
   "metadata": {},
   "outputs": [],
   "source": [
    "lst_test = [0]*100"
   ]
  },
  {
   "cell_type": "code",
   "execution_count": 14,
   "metadata": {
    "id": "GPPrbuPlTk4S"
   },
   "outputs": [],
   "source": [
    "def tick_input():\n",
    "  tick = str(input('Please enter stock ticker symbol like [$GME]:'))\n",
    "  return tick"
   ]
  },
  {
   "cell_type": "code",
   "execution_count": 167,
   "metadata": {},
   "outputs": [],
   "source": [
    "def tick_list(tick,ls):\n",
    "  arr = []\n",
    "  arr_two = []\n",
    "  size = len(ls)\n",
    "  arr += size * [tick]\n",
    "  arr_two += size * [\"Twitter\"] \n",
    "  #print(len(arr_two), len(arr))\n",
    "  return arr, arr_two"
   ]
  },
  {
   "cell_type": "code",
   "execution_count": 177,
   "metadata": {
    "id": "d2NfKRjIWhqq"
   },
   "outputs": [],
   "source": [
    "\n",
    "def add_to_df(lst, df, tck, src):\n",
    "  for i in range(len(lst)):\n",
    "    df_length = len(df)\n",
    "    df.loc[df_length] = lst[i], tck[i], src[i]"
   ]
  },
  {
   "cell_type": "code",
   "execution_count": 178,
   "metadata": {
    "id": "_MZR9W81kLhy"
   },
   "outputs": [],
   "source": [
    "df_t = pd.DataFrame(columns=['Tweet','Tick', 'Source'])"
   ]
  },
  {
   "cell_type": "code",
   "execution_count": 179,
   "metadata": {
    "colab": {
     "base_uri": "https://localhost:8080/",
     "height": 49
    },
    "id": "j0Z8zAk0UkTq",
    "outputId": "da135948-56e4-470d-a467-d14c2e6d8f69"
   },
   "outputs": [],
   "source": [
    "get_tick = ['$AMC', '$GMC', '$TSLA', '$MSFT', '$AAPL', '$DOGE', '$SHIB', '$ETH', '$PROG', '$BTC', '$ADA', '$NKLA', '$GOOGL','$RIVN', '$FB']"
   ]
  },
  {
   "cell_type": "code",
   "execution_count": 180,
   "metadata": {
    "id": "YWfQMOyuUqPM"
   },
   "outputs": [],
   "source": [
    "def main():\n",
    "    def get_tweets():\n",
    "        for i in range(len(get_tick)):\n",
    "          ls = get_stock_tweets(get_tick[i], date.today(), 100)\n",
    "          tck_lst,src = tick_list(get_tick[i], ls)\n",
    "          add_to_df(ls,df_t, tck_lst, src)\n",
    "    get_tweets()\n",
    "    \n",
    "    #schedule.every(10).minutes.do(get_tweets)\n",
    "    #while True:\n",
    "        #schedule.run_pending()\n"
   ]
  },
  {
   "cell_type": "code",
   "execution_count": 190,
   "metadata": {
    "colab": {
     "base_uri": "https://localhost:8080/"
    },
    "id": "nu_afUcPg93V",
    "outputId": "64d9217a-c428-46b6-bff8-9dabe10adaaf"
   },
   "outputs": [
    {
     "name": "stderr",
     "output_type": "stream",
     "text": [
      "Unexpected parameter: since\n",
      "Unexpected parameter: since\n",
      "Unexpected parameter: since\n",
      "Unexpected parameter: since\n",
      "Unexpected parameter: since\n",
      "Unexpected parameter: since\n",
      "Unexpected parameter: since\n",
      "Unexpected parameter: since\n",
      "Unexpected parameter: since\n",
      "Unexpected parameter: since\n",
      "Unexpected parameter: since\n",
      "Unexpected parameter: since\n",
      "Unexpected parameter: since\n",
      "Unexpected parameter: since\n",
      "Unexpected parameter: since\n",
      "Unexpected parameter: since\n",
      "Unexpected parameter: since\n",
      "Unexpected parameter: since\n",
      "Unexpected parameter: since\n",
      "Unexpected parameter: since\n",
      "Unexpected parameter: since\n",
      "Unexpected parameter: since\n",
      "Unexpected parameter: since\n",
      "Unexpected parameter: since\n",
      "Unexpected parameter: since\n",
      "Unexpected parameter: since\n",
      "Unexpected parameter: since\n",
      "Unexpected parameter: since\n",
      "Unexpected parameter: since\n",
      "Unexpected parameter: since\n",
      "Unexpected parameter: since\n",
      "Unexpected parameter: since\n",
      "Unexpected parameter: since\n",
      "Unexpected parameter: since\n",
      "Unexpected parameter: since\n",
      "Unexpected parameter: since\n",
      "Unexpected parameter: since\n",
      "Unexpected parameter: since\n",
      "Unexpected parameter: since\n",
      "Unexpected parameter: since\n",
      "Unexpected parameter: since\n",
      "Unexpected parameter: since\n",
      "Unexpected parameter: since\n",
      "Unexpected parameter: since\n",
      "Unexpected parameter: since\n",
      "Unexpected parameter: since\n",
      "Unexpected parameter: since\n",
      "Unexpected parameter: since\n",
      "Unexpected parameter: since\n",
      "Unexpected parameter: since\n",
      "Unexpected parameter: since\n",
      "Unexpected parameter: since\n",
      "Unexpected parameter: since\n",
      "Unexpected parameter: since\n",
      "Unexpected parameter: since\n",
      "Unexpected parameter: since\n",
      "Unexpected parameter: since\n",
      "Unexpected parameter: since\n",
      "Unexpected parameter: since\n",
      "Unexpected parameter: since\n",
      "Unexpected parameter: since\n",
      "Unexpected parameter: since\n",
      "Unexpected parameter: since\n",
      "Unexpected parameter: since\n",
      "Unexpected parameter: since\n",
      "Unexpected parameter: since\n",
      "Unexpected parameter: since\n",
      "Unexpected parameter: since\n",
      "Unexpected parameter: since\n",
      "Unexpected parameter: since\n",
      "Unexpected parameter: since\n",
      "Unexpected parameter: since\n",
      "Unexpected parameter: since\n",
      "Unexpected parameter: since\n",
      "Unexpected parameter: since\n",
      "Unexpected parameter: since\n",
      "Unexpected parameter: since\n",
      "Unexpected parameter: since\n",
      "Unexpected parameter: since\n",
      "Unexpected parameter: since\n",
      "Unexpected parameter: since\n",
      "Unexpected parameter: since\n",
      "Unexpected parameter: since\n",
      "Unexpected parameter: since\n",
      "Unexpected parameter: since\n",
      "Unexpected parameter: since\n",
      "Unexpected parameter: since\n",
      "Unexpected parameter: since\n",
      "Unexpected parameter: since\n",
      "Unexpected parameter: since\n",
      "Unexpected parameter: since\n",
      "Unexpected parameter: since\n",
      "Unexpected parameter: since\n",
      "Unexpected parameter: since\n",
      "Unexpected parameter: since\n",
      "Unexpected parameter: since\n",
      "Unexpected parameter: since\n",
      "Unexpected parameter: since\n",
      "Unexpected parameter: since\n",
      "Unexpected parameter: since\n",
      "Unexpected parameter: since\n",
      "Unexpected parameter: since\n",
      "Unexpected parameter: since\n",
      "Unexpected parameter: since\n",
      "Unexpected parameter: since\n",
      "Unexpected parameter: since\n",
      "Unexpected parameter: since\n",
      "Unexpected parameter: since\n",
      "Unexpected parameter: since\n",
      "Unexpected parameter: since\n",
      "Unexpected parameter: since\n",
      "Unexpected parameter: since\n",
      "Unexpected parameter: since\n",
      "Unexpected parameter: since\n",
      "Unexpected parameter: since\n",
      "Unexpected parameter: since\n",
      "Unexpected parameter: since\n",
      "Unexpected parameter: since\n",
      "Unexpected parameter: since\n"
     ]
    }
   ],
   "source": [
    "if __name__ == \"__main__\": \n",
    "    main()"
   ]
  },
  {
   "cell_type": "code",
   "execution_count": 191,
   "metadata": {
    "colab": {
     "base_uri": "https://localhost:8080/",
     "height": 419
    },
    "id": "zH7Zrk9ug-xq",
    "outputId": "729a3b1f-bb5c-4fc2-cace-bbcea1fe8f18"
   },
   "outputs": [
    {
     "data": {
      "text/html": [
       "<div>\n",
       "<style scoped>\n",
       "    .dataframe tbody tr th:only-of-type {\n",
       "        vertical-align: middle;\n",
       "    }\n",
       "\n",
       "    .dataframe tbody tr th {\n",
       "        vertical-align: top;\n",
       "    }\n",
       "\n",
       "    .dataframe thead th {\n",
       "        text-align: right;\n",
       "    }\n",
       "</style>\n",
       "<table border=\"1\" class=\"dataframe\">\n",
       "  <thead>\n",
       "    <tr style=\"text-align: right;\">\n",
       "      <th></th>\n",
       "      <th>Tweet</th>\n",
       "      <th>Tick</th>\n",
       "      <th>Source</th>\n",
       "    </tr>\n",
       "  </thead>\n",
       "  <tbody>\n",
       "    <tr>\n",
       "      <th>0</th>\n",
       "      <td>Please post your chart requests, or questions ...</td>\n",
       "      <td>$AMC</td>\n",
       "      <td>Twitter</td>\n",
       "    </tr>\n",
       "    <tr>\n",
       "      <th>1</th>\n",
       "      <td>I will 100x my portfolio this week. \\nI will 1...</td>\n",
       "      <td>$AMC</td>\n",
       "      <td>Twitter</td>\n",
       "    </tr>\n",
       "    <tr>\n",
       "      <th>2</th>\n",
       "      <td>Working six days a week twelve hr shifts until...</td>\n",
       "      <td>$AMC</td>\n",
       "      <td>Twitter</td>\n",
       "    </tr>\n",
       "    <tr>\n",
       "      <th>3</th>\n",
       "      <td>@Pinkmeow3 @heyitspixel69 You never know, he m...</td>\n",
       "      <td>$AMC</td>\n",
       "      <td>Twitter</td>\n",
       "    </tr>\n",
       "    <tr>\n",
       "      <th>4</th>\n",
       "      <td>🔥 Subscribe now for real time stock alerts. Li...</td>\n",
       "      <td>$AMC</td>\n",
       "      <td>Twitter</td>\n",
       "    </tr>\n",
       "    <tr>\n",
       "      <th>...</th>\n",
       "      <td>...</td>\n",
       "      <td>...</td>\n",
       "      <td>...</td>\n",
       "    </tr>\n",
       "    <tr>\n",
       "      <th>2743</th>\n",
       "      <td>Bird Global Inc. $BRDS, the electric scooter r...</td>\n",
       "      <td>$FB</td>\n",
       "      <td>Twitter</td>\n",
       "    </tr>\n",
       "    <tr>\n",
       "      <th>2744</th>\n",
       "      <td>[SCAN RESULTS - 15m]\\n\\nExchange: #FTX\\n\\nTop ...</td>\n",
       "      <td>$FB</td>\n",
       "      <td>Twitter</td>\n",
       "    </tr>\n",
       "    <tr>\n",
       "      <th>2745</th>\n",
       "      <td>The Best Overlooked Metaverse Stock To Buy Now...</td>\n",
       "      <td>$FB</td>\n",
       "      <td>Twitter</td>\n",
       "    </tr>\n",
       "    <tr>\n",
       "      <th>2746</th>\n",
       "      <td>Good afternoon everyone!\\n\\nIf anyone has any ...</td>\n",
       "      <td>$FB</td>\n",
       "      <td>Twitter</td>\n",
       "    </tr>\n",
       "    <tr>\n",
       "      <th>2747</th>\n",
       "      <td>WATCH IT. Bullish as fuck !!! 😃\\n\\n$HERO #meta...</td>\n",
       "      <td>$FB</td>\n",
       "      <td>Twitter</td>\n",
       "    </tr>\n",
       "  </tbody>\n",
       "</table>\n",
       "<p>2748 rows × 3 columns</p>\n",
       "</div>"
      ],
      "text/plain": [
       "                                                  Tweet  Tick   Source\n",
       "0     Please post your chart requests, or questions ...  $AMC  Twitter\n",
       "1     I will 100x my portfolio this week. \\nI will 1...  $AMC  Twitter\n",
       "2     Working six days a week twelve hr shifts until...  $AMC  Twitter\n",
       "3     @Pinkmeow3 @heyitspixel69 You never know, he m...  $AMC  Twitter\n",
       "4     🔥 Subscribe now for real time stock alerts. Li...  $AMC  Twitter\n",
       "...                                                 ...   ...      ...\n",
       "2743  Bird Global Inc. $BRDS, the electric scooter r...   $FB  Twitter\n",
       "2744  [SCAN RESULTS - 15m]\\n\\nExchange: #FTX\\n\\nTop ...   $FB  Twitter\n",
       "2745  The Best Overlooked Metaverse Stock To Buy Now...   $FB  Twitter\n",
       "2746  Good afternoon everyone!\\n\\nIf anyone has any ...   $FB  Twitter\n",
       "2747  WATCH IT. Bullish as fuck !!! 😃\\n\\n$HERO #meta...   $FB  Twitter\n",
       "\n",
       "[2748 rows x 3 columns]"
      ]
     },
     "execution_count": 191,
     "metadata": {},
     "output_type": "execute_result"
    }
   ],
   "source": [
    "df_t"
   ]
  },
  {
   "cell_type": "code",
   "execution_count": 90,
   "metadata": {
    "id": "pmDM8E9Oh7kc"
   },
   "outputs": [
    {
     "data": {
      "text/plain": [
       "[Every 10 minutes do get_tweets() (last run: 2021-11-20 16:00:12, next run: 2021-11-20 16:10:12)]"
      ]
     },
     "execution_count": 90,
     "metadata": {},
     "output_type": "execute_result"
    }
   ],
   "source": [
    "schedule.jobs"
   ]
  },
  {
   "cell_type": "code",
   "execution_count": 85,
   "metadata": {},
   "outputs": [],
   "source": [
    "#schedule.clear()"
   ]
  },
  {
   "cell_type": "code",
   "execution_count": 120,
   "metadata": {},
   "outputs": [],
   "source": [
    "df_t.to_csv('Twitter_Data.csv')\n",
    "    "
   ]
  },
  {
   "cell_type": "code",
   "execution_count": 187,
   "metadata": {},
   "outputs": [
    {
     "name": "stdout",
     "output_type": "stream",
     "text": [
      "Requirement already satisfied: tweepy in /Users/adityachalla/opt/anaconda3/lib/python3.8/site-packages (4.4.0)\n",
      "Requirement already satisfied: requests<3,>=2.11.1 in /Users/adityachalla/opt/anaconda3/lib/python3.8/site-packages (from tweepy) (2.24.0)\n",
      "Requirement already satisfied: requests-oauthlib<2,>=1.0.0 in /Users/adityachalla/opt/anaconda3/lib/python3.8/site-packages (from tweepy) (1.3.0)\n",
      "Requirement already satisfied: certifi>=2017.4.17 in /Users/adityachalla/opt/anaconda3/lib/python3.8/site-packages (from requests<3,>=2.11.1->tweepy) (2020.6.20)\n",
      "Requirement already satisfied: chardet<4,>=3.0.2 in /Users/adityachalla/opt/anaconda3/lib/python3.8/site-packages (from requests<3,>=2.11.1->tweepy) (3.0.4)\n",
      "Requirement already satisfied: idna<3,>=2.5 in /Users/adityachalla/opt/anaconda3/lib/python3.8/site-packages (from requests<3,>=2.11.1->tweepy) (2.10)\n",
      "Requirement already satisfied: urllib3!=1.25.0,!=1.25.1,<1.26,>=1.21.1 in /Users/adityachalla/opt/anaconda3/lib/python3.8/site-packages (from requests<3,>=2.11.1->tweepy) (1.25.11)\n",
      "Requirement already satisfied: oauthlib>=3.0.0 in /Users/adityachalla/opt/anaconda3/lib/python3.8/site-packages (from requests-oauthlib<2,>=1.0.0->tweepy) (3.1.0)\n"
     ]
    }
   ],
   "source": [
    "!pip install tweepy"
   ]
  },
  {
   "cell_type": "code",
   "execution_count": null,
   "metadata": {},
   "outputs": [],
   "source": []
  }
 ],
 "metadata": {
  "colab": {
   "collapsed_sections": [],
   "name": "Twitter.ipynb ",
   "provenance": []
  },
  "kernelspec": {
   "display_name": "Python 3 (ipykernel)",
   "language": "python",
   "name": "python3"
  },
  "language_info": {
   "codemirror_mode": {
    "name": "ipython",
    "version": 3
   },
   "file_extension": ".py",
   "mimetype": "text/x-python",
   "name": "python",
   "nbconvert_exporter": "python",
   "pygments_lexer": "ipython3",
   "version": "3.9.5"
  }
 },
 "nbformat": 4,
 "nbformat_minor": 1
}
